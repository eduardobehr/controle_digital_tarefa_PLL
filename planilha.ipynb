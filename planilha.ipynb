{
 "cells": [
  {
   "cell_type": "code",
   "execution_count": 1,
   "metadata": {},
   "outputs": [],
   "source": [
    "import sympy as sp\n",
    "from sympy import pi, Eq, solve"
   ]
  },
  {
   "cell_type": "code",
   "execution_count": 2,
   "metadata": {},
   "outputs": [],
   "source": [
    "Xs, Ys, Xz, Yz, fg, K, s, z, Ts = sp.symbols('X(s) Y(s) X(z) Y(z) f_g K s z T_s')"
   ]
  },
  {
   "cell_type": "markdown",
   "metadata": {},
   "source": [
    "## Dedução da função de transferência do SOGI-PLL no domínio $s$\n",
    "\n",
    "![Diagrama-SOGI-PLL](diagrama_sogi_pll.png)"
   ]
  },
  {
   "cell_type": "code",
   "execution_count": 3,
   "metadata": {},
   "outputs": [
    {
     "data": {
      "text/latex": [
       "$\\displaystyle Y(s) = \\frac{2 \\pi f_{g} \\left(K \\left(X(s) - Y(s)\\right) - \\frac{2 \\pi Y(s) f_{g}}{s}\\right)}{s}$"
      ],
      "text/plain": [
       "Eq(Y(s), 2*pi*f_g*(K*(X(s) - Y(s)) - 2*pi*Y(s)*f_g/s)/s)"
      ]
     },
     "execution_count": 3,
     "metadata": {},
     "output_type": "execute_result"
    }
   ],
   "source": [
    "E1 = Xs-Ys\n",
    "E2 = K*E1-(2*pi*fg/s)*Ys\n",
    "eq_y = sp.Eq(Ys, 2*pi*fg*E2/s); eq_y"
   ]
  },
  {
   "cell_type": "code",
   "execution_count": 4,
   "metadata": {},
   "outputs": [
    {
     "name": "stdout",
     "output_type": "stream",
     "text": [
      "Função de transferência em s do SOGI-PLL:\n"
     ]
    },
    {
     "data": {
      "text/latex": [
       "$\\displaystyle \\frac{Y(s)}{X(s)} = \\frac{2 \\pi K f_{g} s}{2 \\pi K f_{g} s + 4 \\pi^{2} f_{g}^{2} + s^{2}}$"
      ],
      "text/plain": [
       "Eq(Y(s)/X(s), 2*pi*K*f_g*s/(2*pi*K*f_g*s + 4*pi**2*f_g**2 + s**2))"
      ]
     },
     "metadata": {},
     "output_type": "display_data"
    }
   ],
   "source": [
    "eq_tf_s = Eq(Ys/Xs, solve(eq_y, Ys)[0]/Xs)\n",
    "print(\"Função de transferência em s do SOGI-PLL:\"); display(eq_tf_s)"
   ]
  },
  {
   "cell_type": "markdown",
   "metadata": {},
   "source": [
    "## Conversão da função de transferência do SOGI-PLL para o domínio $z$"
   ]
  },
  {
   "cell_type": "code",
   "execution_count": 5,
   "metadata": {},
   "outputs": [],
   "source": [
    "def z_transform(eq: Eq):\n",
    "    rhs = eq.rhs.subs({s: (2/Ts)*(z-1)/(z+1)}).simplify()\n",
    "    lhs = Yz/Xz\n",
    "    return Eq(lhs, rhs)"
   ]
  },
  {
   "cell_type": "code",
   "execution_count": 6,
   "metadata": {},
   "outputs": [
    {
     "name": "stdout",
     "output_type": "stream",
     "text": [
      "Função de transferência em z do SOGI-PLL:\n"
     ]
    },
    {
     "data": {
      "text/latex": [
       "$\\displaystyle \\frac{Y(z)}{X(z)} = \\frac{\\pi K T_{s} f_{g} \\left(z - 1\\right) \\left(z + 1\\right)}{\\pi K T_{s} f_{g} \\left(z - 1\\right) \\left(z + 1\\right) + \\pi^{2} T_{s}^{2} f_{g}^{2} \\left(z + 1\\right)^{2} + \\left(z - 1\\right)^{2}}$"
      ],
      "text/plain": [
       "Eq(Y(z)/X(z), pi*K*T_s*f_g*(z - 1)*(z + 1)/(pi*K*T_s*f_g*(z - 1)*(z + 1) + pi**2*T_s**2*f_g**2*(z + 1)**2 + (z - 1)**2))"
      ]
     },
     "metadata": {},
     "output_type": "display_data"
    }
   ],
   "source": [
    "eq_tf_z = z_transform(eq_tf_s)\n",
    "print(\"Função de transferência em z do SOGI-PLL:\"); display(eq_tf_z)"
   ]
  },
  {
   "cell_type": "code",
   "execution_count": 7,
   "metadata": {},
   "outputs": [
    {
     "data": {
      "text/latex": [
       "$\\displaystyle \\pi K T_{s} X(z) f_{g} \\left(z^{2} - 1\\right) = Y(z) \\left(\\pi K T_{s} f_{g} z^{2} - \\pi K T_{s} f_{g} + \\pi^{2} T_{s}^{2} f_{g}^{2} z^{2} + 2 \\pi^{2} T_{s}^{2} f_{g}^{2} z + \\pi^{2} T_{s}^{2} f_{g}^{2} + z^{2} - 2 z + 1\\right)$"
      ],
      "text/plain": [
       "Eq(pi*K*T_s*X(z)*f_g*(z**2 - 1), Y(z)*(pi*K*T_s*f_g*z**2 - pi*K*T_s*f_g + pi**2*T_s**2*f_g**2*z**2 + 2*pi**2*T_s**2*f_g**2*z + pi**2*T_s**2*f_g**2 + z**2 - 2*z + 1))"
      ]
     },
     "execution_count": 7,
     "metadata": {},
     "output_type": "execute_result"
    }
   ],
   "source": [
    "rhs_numerator = eq_tf_z.rhs.as_numer_denom()[0]\n",
    "rhs_denominator = eq_tf_z.rhs.as_numer_denom()[1]\n",
    "lhs_numerator = eq_tf_z.lhs.as_numer_denom()[0]\n",
    "lhs_denominator = eq_tf_z.lhs.as_numer_denom()[1]\n",
    "\n",
    "eq_expanded = Eq(lhs_numerator*rhs_denominator, rhs_numerator*lhs_denominator).expand().simplify()\n",
    "eq_expanded"
   ]
  },
  {
   "cell_type": "code",
   "execution_count": 16,
   "metadata": {},
   "outputs": [
    {
     "data": {
      "text/latex": [
       "$\\displaystyle \\frac{\\pi K T_{s} X(z) f_{g} \\left(z^{2} - 1\\right)}{z^{2}} = \\frac{Y(z) \\left(- \\pi K T_{s} f_{g} + \\pi^{2} T_{s}^{2} f_{g}^{2} + z^{2} \\left(\\pi K T_{s} f_{g} + \\pi^{2} T_{s}^{2} f_{g}^{2} + 1\\right) + 2 z \\left(\\pi^{2} T_{s}^{2} f_{g}^{2} - 1\\right) + 1\\right)}{z^{2}}$"
      ],
      "text/plain": [
       "Eq(pi*K*T_s*X(z)*f_g*(z**2 - 1)/z**2, Y(z)*(-pi*K*T_s*f_g + pi**2*T_s**2*f_g**2 + z**2*(pi*K*T_s*f_g + pi**2*T_s**2*f_g**2 + 1) + 2*z*(pi**2*T_s**2*f_g**2 - 1) + 1)/z**2)"
      ]
     },
     "execution_count": 16,
     "metadata": {},
     "output_type": "execute_result"
    }
   ],
   "source": [
    "eq_offset = Eq(eq_expanded.lhs/z**2, eq_expanded.rhs/z**2).expand().simplify(); eq_offset"
   ]
  },
  {
   "cell_type": "code",
   "execution_count": 9,
   "metadata": {},
   "outputs": [
    {
     "data": {
      "text/latex": [
       "$\\displaystyle 0.00376991 X(z) - \\frac{0.00376991 X(z)}{z^{2}} = 1.00413 Y(z) - \\frac{1.99929 Y(z)}{z} + \\frac{0.996585 Y(z)}{z^{2}}$"
      ],
      "text/plain": [
       "Eq(0.00376991*X(z) - 0.00376991*X(z)/z**2, 1.00413*Y(z) - 1.99929*Y(z)/z + 0.996585*Y(z)/z**2)"
      ]
     },
     "execution_count": 9,
     "metadata": {},
     "output_type": "execute_result"
    }
   ],
   "source": [
    "eq_subs = eq_offset.subs({\n",
    "    Ts: 1e-4,\n",
    "    K: 0.2,\n",
    "    fg: 60\n",
    "}).evalf(6)\n",
    "eq_subs"
   ]
  }
 ],
 "metadata": {
  "kernelspec": {
   "display_name": "Python 3.8.10 64-bit",
   "language": "python",
   "name": "python3"
  },
  "language_info": {
   "codemirror_mode": {
    "name": "ipython",
    "version": 3
   },
   "file_extension": ".py",
   "mimetype": "text/x-python",
   "name": "python",
   "nbconvert_exporter": "python",
   "pygments_lexer": "ipython3",
   "version": "3.8.10"
  },
  "orig_nbformat": 4,
  "vscode": {
   "interpreter": {
    "hash": "e7370f93d1d0cde622a1f8e1c04877d8463912d04d973331ad4851f04de6915a"
   }
  }
 },
 "nbformat": 4,
 "nbformat_minor": 2
}
